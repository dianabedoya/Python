{
  "cells": [
    {
      "metadata": {},
      "cell_type": "markdown",
      "source": "<img src=\"http://www.redttu.edu.co/es/wp-content/uploads/2016/01/itm.png\" alt=\"drawing\" width=\"400\"/>\n\n<hr>\n\nPedro Atencio - 2019"
    },
    {
      "metadata": {},
      "cell_type": "markdown",
      "source": "<hr>\n\n# Modulo 1 - Introducción\n- Escribiendo y ejecutando un programa simple en Python.\n- Herramientas y formas de ejecución de programas en Python.\n    - Ipython + Jupyter notebooks.\n    - Git.\n    - Markdown / Python.\n- Espacios de trabajo: ¿Local o en la nube? \n- Tipos de datos. \n- Operadores aritmeticos.\n- Expresiones y variables + Naming conventions.\n- En Python todos los elementos son objetos.\n- Palabras reservadas.\n- Comentarios.\n- Printing: Estructuración y formato.\n- Notas técnicas:\n    - División entera y flotante.\n    - __future__ division\n- Importación de librerias.\n- Ejercicios."
    },
    {
      "metadata": {},
      "cell_type": "markdown",
      "source": "<hr>\n\n# 1. Implementemos algunas formulas\n\n<hr>\n\n## Ejemplo 1: Segunda ley de Newton\n<br>\n<font size=3>A partir de la segunda ley de Newton se pueder derivar un modelo para el determinar la posición vertical ($y$) de un objeto en caida libre para el instante $t$, sabiendo su velocidad inicial $V_0$:</font>\n\n<br>\n<center>\n    <font size=5>$y(t) = v_0t-\\frac{1}{2}gt^2$</font>\n</center>"
    },
    {
      "metadata": {
        "trusted": true
      },
      "cell_type": "code",
      "source": "g = 9.8 #la constante de gravedad\nv0 = 2.4 #velocidad inicial\nt = 5. #tiempo para el que se desea saber la altura\ny = v0*t - (1./2.)*g*t**2\n\nprint(y)",
      "execution_count": 56,
      "outputs": [
        {
          "output_type": "stream",
          "text": "-110.5\n",
          "name": "stdout"
        }
      ]
    },
    {
      "metadata": {},
      "cell_type": "markdown",
      "source": "<hr>\n\n## Ejemplo 2: Raíces de una ecuación cuadrática\n\n- De la forma $y = ax^2+bx+c$\n\nEn este punto solo nos interesa implementar la formula de las raíces, sin considerar las validaciones que se requieren. \n\n<br>\n\n<font size=5>\n\n   <center> $\\frac{-b \\pm \\sqrt{b^2-4ac}}{2a}$ </center>\n    \n</font>"
    },
    {
      "metadata": {
        "trusted": true
      },
      "cell_type": "code",
      "source": "#definamos las variables a, b y c\na = 1.\nb = 4.\nc = 2.",
      "execution_count": 66,
      "outputs": []
    },
    {
      "metadata": {
        "trusted": true
      },
      "cell_type": "code",
      "source": "r1 = (-b + (b**2 - 4*a*c)**(0.5)) / (2*a) #raiz 1",
      "execution_count": 67,
      "outputs": []
    },
    {
      "metadata": {
        "trusted": true
      },
      "cell_type": "code",
      "source": "r2 = (-b - (b**2 - 4*a*c)**(0.5)) / (2*a) #raiz 2",
      "execution_count": 68,
      "outputs": []
    },
    {
      "metadata": {
        "trusted": true
      },
      "cell_type": "code",
      "source": "print(\"Primera raiz: \", r1) #concatenacion de string y valor numerico\nprint(\"Segunda raiz: \", r2) #concatenacion de string y valor numerico",
      "execution_count": 69,
      "outputs": [
        {
          "output_type": "stream",
          "text": "('Primera raiz: ', -0.5857864376269049)\n('Segunda raiz: ', -3.414213562373095)\n",
          "name": "stdout"
        }
      ]
    },
    {
      "metadata": {},
      "cell_type": "markdown",
      "source": "<hr>\n\n# 2. Tipos de datos\n\nPython es un lenguaje de computación general, interpretado y de tipado dinámico:\n- Interpretado: no se compila a código máquina directamente.\n- Tipado dinámico: No requiere definir el tipo de dato de la variables o constantes que se manejen.\n\nLos principales tipos de datos son:\n\n1. Enteros.\n2. Reales: Double, Single, Float.\n3. Complejos.\n4. Strings."
    },
    {
      "metadata": {
        "trusted": true
      },
      "cell_type": "code",
      "source": "a = 1 #entero\nb = 2.45 #real\nc = 2+4j #complejo\nd = 'a' #String\ne = 'Hola mundo' #String\ne1 = \"Hola mundo\" #String",
      "execution_count": 70,
      "outputs": []
    },
    {
      "metadata": {},
      "cell_type": "markdown",
      "source": "<hr>\n\nLa función __type__ de Python, nos permite preguntar por el tipo de dato de una variable.\n\n<hr>"
    },
    {
      "metadata": {
        "trusted": true
      },
      "cell_type": "code",
      "source": "print(type(a))\nprint(type(b))\nprint(type(c))\nprint(type(d))\nprint(type(e))\nprint(type(e1))",
      "execution_count": 71,
      "outputs": [
        {
          "output_type": "stream",
          "text": "<type 'int'>\n<type 'float'>\n<type 'complex'>\n<type 'str'>\n<type 'str'>\n<type 'str'>\n",
          "name": "stdout"
        }
      ]
    },
    {
      "metadata": {},
      "cell_type": "markdown",
      "source": "<hr>\n\n## Todo en Python es objeto\n\nTodo en Python es un objeto, esto es, todo dato tiene:\n\n1. Atributos.\n2. Funciones.\n\nPodemos consultar los métodos de un tipo de datos, accediendo a la documentación de Python. Por ejemplo, para los Strings: https://docs.python.org/2/library/string.html"
    },
    {
      "metadata": {
        "trusted": true
      },
      "cell_type": "code",
      "source": "msg = \"That is not dead which can eternal lie, And with strange aeons even death may die\"\n\nprint(msg.count('a')) #contar las letras a. .Count es un metodo del tipo de datos String",
      "execution_count": 79,
      "outputs": [
        {
          "output_type": "stream",
          "text": "8\n",
          "name": "stdout"
        }
      ]
    },
    {
      "metadata": {
        "trusted": true
      },
      "cell_type": "code",
      "source": "numComplejo = 4+3j\n\nprint(numComplejo.real) #.real y .imag son atributos del tipo de datos Complex\nprint(numComplejo.imag)",
      "execution_count": 80,
      "outputs": [
        {
          "output_type": "stream",
          "text": "4.0\n3.0\n",
          "name": "stdout"
        }
      ]
    },
    {
      "metadata": {},
      "cell_type": "markdown",
      "source": "<hr>\n\n# 3. Naming\n\nPor convención(que no se requiere, pero la mayoría estamos de acuerdo):\n\n- Las constantes se escriben en mayúscula, por ejemplo, PI.\n- Las variables se escriben utilizando notación <a href=\"https://en.wikipedia.org/wiki/Camel_case \">CamelCase</a>, por ejemplo, estaEsMiVariable."
    },
    {
      "metadata": {
        "trusted": true
      },
      "cell_type": "code",
      "source": "#Constantes en mayusculas\nPI = 3.1416\n\n#Variables: CamelCase\nestoEsMiVariable = 12.3",
      "execution_count": 81,
      "outputs": []
    },
    {
      "metadata": {},
      "cell_type": "markdown",
      "source": "# 4.  Palabras Reservadas\n\nTodo lenguaje de programación tiene palabras que son de uso privativo del mismo, es decir, que no conveniente y en algunos casos imposible, utilizarlas, por ejemplo:\n\n- sqrt: raiz cuadrada.\n- sin, cos, tan, etc.\n- for, while, if, else, etc.\n"
    },
    {
      "metadata": {
        "trusted": true
      },
      "cell_type": "code",
      "source": "from math import sqrt\n\nsqrt = 4**(1./2.)\n\nprint(sqrt)\n\nprint(sqrt(4)) #error en el llamado de funcion...ahora sqrt es una variable",
      "execution_count": 83,
      "outputs": [
        {
          "output_type": "stream",
          "text": "2.0\n",
          "name": "stdout"
        },
        {
          "output_type": "error",
          "ename": "TypeError",
          "evalue": "'float' object is not callable",
          "traceback": [
            "\u001b[0;31m\u001b[0m",
            "\u001b[0;31mTypeError\u001b[0mTraceback (most recent call last)",
            "\u001b[0;32m<ipython-input-83-98bb27ebfa04>\u001b[0m in \u001b[0;36m<module>\u001b[0;34m()\u001b[0m\n\u001b[1;32m      5\u001b[0m \u001b[0;32mprint\u001b[0m\u001b[0;34m(\u001b[0m\u001b[0msqrt\u001b[0m\u001b[0;34m)\u001b[0m\u001b[0;34m\u001b[0m\u001b[0m\n\u001b[1;32m      6\u001b[0m \u001b[0;34m\u001b[0m\u001b[0m\n\u001b[0;32m----> 7\u001b[0;31m \u001b[0;32mprint\u001b[0m\u001b[0;34m(\u001b[0m\u001b[0msqrt\u001b[0m\u001b[0;34m(\u001b[0m\u001b[0;36m4\u001b[0m\u001b[0;34m)\u001b[0m\u001b[0;34m)\u001b[0m \u001b[0;31m#error en el llamado de funcion...ahora sqrt es una variable\u001b[0m\u001b[0;34m\u001b[0m\u001b[0m\n\u001b[0m",
            "\u001b[0;31mTypeError\u001b[0m: 'float' object is not callable"
          ]
        }
      ]
    },
    {
      "metadata": {},
      "cell_type": "markdown",
      "source": "# 5. Trabajo en casa \n\nEncontrar __2 o más__ funciones IMPORTANTES para la(s) asignatura(s) que usted dirije e implementar la función en Latex y en Python. Por ejemplo:\n\n<br>\n\n<center>\n\n       <font size=5> $\\underset{\\Delta x \\rightarrow 0}{f'(x)} = \\frac{f(x+\\Delta x) - f(x)}{\\Delta x}$ </font>\n\n</center>"
    },
    {
      "metadata": {
        "trusted": true
      },
      "cell_type": "code",
      "source": "#f(x) = x**2\n\nx = 2\ndeltaX = 0.000002 #tiende a cero\n\nfp = ((x+deltaX)**2 - x**2) / deltaX\n\nchange = fp / x",
      "execution_count": 92,
      "outputs": []
    },
    {
      "metadata": {
        "trusted": true
      },
      "cell_type": "code",
      "source": "print(\"El cambio de la funcion f(x) = x^2 para x = \",2,\" fue: \", round(change)) #Printing con argumento\nprint(\"El cambio de la funcion f(x) = x^2 para x = \"+str(2)+\" fue: \"+str(round(change))) #Printing con concatenacion de Strings",
      "execution_count": 103,
      "outputs": [
        {
          "output_type": "stream",
          "text": "('El cambio de la funcion f(x) = x^2 para x = ', 2, ' fue: ', 2.0)\nEl cambio de la funcion f(x) = x^2 para x = 2 fue: 2.0\n",
          "name": "stdout"
        }
      ]
    },
    {
      "metadata": {
        "trusted": true
      },
      "cell_type": "code",
      "source": "",
      "execution_count": null,
      "outputs": []
    }
  ],
  "metadata": {
    "kernelspec": {
      "name": "python2",
      "display_name": "Python 2",
      "language": "python"
    },
    "language_info": {
      "mimetype": "text/x-python",
      "nbconvert_exporter": "python",
      "name": "python",
      "pygments_lexer": "ipython2",
      "version": "2.7.15",
      "file_extension": ".py",
      "codemirror_mode": {
        "version": 2,
        "name": "ipython"
      }
    }
  },
  "nbformat": 4,
  "nbformat_minor": 2
}