{
 "cells": [
  {
   "cell_type": "markdown",
   "metadata": {},
   "source": [
    "<img src=\"http://www.redttu.edu.co/es/wp-content/uploads/2016/01/itm.png\" alt=\"drawing\" width=\"400\"/>\n",
    "\n",
    "<hr>\n",
    "\n",
    "Pedro Atencio - 2019"
   ]
  },
  {
   "cell_type": "markdown",
   "metadata": {},
   "source": [
    "<hr>\n",
    "\n",
    "# Modulo 1 - Introducción\n",
    "- Escribiendo y ejecutando un programa simple en Python.\n",
    "- Herramientas y formas de ejecución de programas en Python.\n",
    "    - Ipython + Jupyter notebooks.\n",
    "    - Git.\n",
    "    - Markdown / Python.\n",
    "- Espacios de trabajo: ¿Local o en la nube? \n",
    "- Tipos de datos. \n",
    "- Operadores aritmeticos.\n",
    "- Expresiones y variables + Naming conventions.\n",
    "- En Python todos los elementos son objetos.\n",
    "- Palabras reservadas.\n",
    "- Comentarios.\n",
    "- Printing: Estructuración y formato.\n",
    "- Notas técnicas:\n",
    "    - División entera y flotante.\n",
    "    - __future__ division\n",
    "- Importación de librerias.\n",
    "- Ejercicios."
   ]
  },
  {
   "cell_type": "code",
   "execution_count": null,
   "metadata": {},
   "outputs": [],
   "source": []
  }
 ],
 "metadata": {
  "kernelspec": {
   "display_name": "Python 2",
   "language": "python",
   "name": "python2"
  },
  "language_info": {
   "codemirror_mode": {
    "name": "ipython",
    "version": 2
   },
   "file_extension": ".py",
   "mimetype": "text/x-python",
   "name": "python",
   "nbconvert_exporter": "python",
   "pygments_lexer": "ipython2",
   "version": "2.7.12"
  }
 },
 "nbformat": 4,
 "nbformat_minor": 2
}
